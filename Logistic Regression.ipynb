{
 "cells": [
  {
   "cell_type": "markdown",
   "metadata": {},
   "source": [
    "# Classification problem(Qualitative(categorical) Response) using Logistic Regression and interpret results, model using Confusion Matrix\n",
    "\n",
    "Quantitative Response variable problem- Linear Regression\n",
    "Prediction of observation's category(qualitative response) based on relationship between target feature and independent categorical and quantitative predictive features in the data set.\n",
    "\n",
    "Example:\n",
    "cust data set\n",
    "cust name\n",
    "age location\n",
    "income\n",
    "avg call duration\n",
    "time spent on interactin with custsupport (history)\n",
    "left over minutes per month\n",
    "cust status active/cancelled services\n",
    "\n",
    "model to predict if a customer is likely to continue or end services\n",
    "customer churn model--- ask mahi for simulated data\n",
    "\n"
   ]
  },
  {
   "cell_type": "code",
   "execution_count": null,
   "metadata": {},
   "outputs": [],
   "source": []
  }
 ],
 "metadata": {
  "kernelspec": {
   "display_name": "Python 3",
   "language": "python",
   "name": "python3"
  },
  "language_info": {
   "codemirror_mode": {
    "name": "ipython",
    "version": 3
   },
   "file_extension": ".py",
   "mimetype": "text/x-python",
   "name": "python",
   "nbconvert_exporter": "python",
   "pygments_lexer": "ipython3",
   "version": "3.6.3"
  }
 },
 "nbformat": 4,
 "nbformat_minor": 2
}
